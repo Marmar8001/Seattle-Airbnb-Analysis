{
 "cells": [
  {
   "cell_type": "markdown",
   "id": "a889c773",
   "metadata": {},
   "source": [
    "***Prediction of Seattle AirBNB Price in 2016***"
   ]
  },
  {
   "cell_type": "raw",
   "id": "81bacb0e",
   "metadata": {},
   "source": [
    "In this analysis, I will investigate effect of different parameters on price of airbnb homes. The data was taken from Kaggle. Some questions to ask is if the specific month influence the price? Which features inside the home affect the airbnb price?\n",
    "\n",
    "This project will follow CRISP-DM methdology which consists of these four steps:\n",
    "1) Business understanding\n",
    "2) Data understanding and preparing\n",
    "3) Modeling\n",
    "4) Evaluation & Conclusion\n",
    "\n",
    "**Business Understanding:**\n",
    "\n",
    "Some questions could be asked like:\n",
    "\n",
    "1)how the price changes during the year?\n",
    "\n",
    "2)What kinds of rooms were more observed in the postings?\n",
    "\n",
    "3)How was the distribution of listing prices?\n",
    "\n",
    "4) How the number of accomodates correlates with average price?\n",
    "\n",
    "4) Which parameters were correlated more with eachother?\n",
    "\n",
    "5) Which parameters affect the price more?\n",
    "\n",
    "\n",
    "The next step is doing some data cleaning, preparation and exploratory data analysis.\n",
    "\n",
    " ***1.1. Import necessary packages***\n"
   ]
  },
  {
   "cell_type": "code",
   "execution_count": 61,
   "id": "3921e891",
   "metadata": {},
   "outputs": [],
   "source": [
    "import pandas as pd\n",
    "import seaborn as sns\n",
    "import matplotlib.pyplot as plt\n",
    "import calendar\n",
    "import numpy as np\n",
    "from sklearn.ensemble import RandomForestRegressor\n",
    "from sklearn.metrics import r2_score, mean_squared_error, mean_absolute_error\n",
    "from sklearn.pipeline import make_pipeline\n",
    "from sklearn.preprocessing import StandardScaler, MinMaxScaler\n",
    "from sklearn.model_selection import train_test_split, cross_validate, GridSearchCV, learning_curve\n",
    "from sklearn.impute import SimpleImputer\n",
    "import xgboost as xgb\n"
   ]
  },
  {
   "cell_type": "markdown",
   "id": "d9494e09",
   "metadata": {},
   "source": [
    "***1.2. Reading the datasets*** "
   ]
  },
  {
   "cell_type": "code",
   "execution_count": 2,
   "id": "b3d6867d",
   "metadata": {},
   "outputs": [],
   "source": [
    "df_calander = pd.read_csv ('calendar.csv')"
   ]
  },
  {
   "cell_type": "code",
   "execution_count": 3,
   "id": "d9caef09",
   "metadata": {},
   "outputs": [
    {
     "name": "stdout",
     "output_type": "stream",
     "text": [
      "<class 'pandas.core.frame.DataFrame'>\n",
      "RangeIndex: 1393570 entries, 0 to 1393569\n",
      "Data columns (total 4 columns):\n",
      " #   Column      Non-Null Count    Dtype \n",
      "---  ------      --------------    ----- \n",
      " 0   listing_id  1393570 non-null  int64 \n",
      " 1   date        1393570 non-null  object\n",
      " 2   available   1393570 non-null  object\n",
      " 3   price       934542 non-null   object\n",
      "dtypes: int64(1), object(3)\n",
      "memory usage: 42.5+ MB\n"
     ]
    }
   ],
   "source": [
    "df_calander.info()"
   ]
  },
  {
   "cell_type": "code",
   "execution_count": 4,
   "id": "78c13094",
   "metadata": {},
   "outputs": [],
   "source": [
    "df_listing = pd.read_csv('listings.csv')"
   ]
  },
  {
   "cell_type": "code",
   "execution_count": 5,
   "id": "bb347e25",
   "metadata": {},
   "outputs": [
    {
     "data": {
      "text/html": [
       "<div>\n",
       "<style scoped>\n",
       "    .dataframe tbody tr th:only-of-type {\n",
       "        vertical-align: middle;\n",
       "    }\n",
       "\n",
       "    .dataframe tbody tr th {\n",
       "        vertical-align: top;\n",
       "    }\n",
       "\n",
       "    .dataframe thead th {\n",
       "        text-align: right;\n",
       "    }\n",
       "</style>\n",
       "<table border=\"1\" class=\"dataframe\">\n",
       "  <thead>\n",
       "    <tr style=\"text-align: right;\">\n",
       "      <th></th>\n",
       "      <th>id</th>\n",
       "      <th>listing_url</th>\n",
       "      <th>scrape_id</th>\n",
       "      <th>last_scraped</th>\n",
       "      <th>name</th>\n",
       "      <th>summary</th>\n",
       "      <th>space</th>\n",
       "      <th>description</th>\n",
       "      <th>experiences_offered</th>\n",
       "      <th>neighborhood_overview</th>\n",
       "      <th>...</th>\n",
       "      <th>review_scores_value</th>\n",
       "      <th>requires_license</th>\n",
       "      <th>license</th>\n",
       "      <th>jurisdiction_names</th>\n",
       "      <th>instant_bookable</th>\n",
       "      <th>cancellation_policy</th>\n",
       "      <th>require_guest_profile_picture</th>\n",
       "      <th>require_guest_phone_verification</th>\n",
       "      <th>calculated_host_listings_count</th>\n",
       "      <th>reviews_per_month</th>\n",
       "    </tr>\n",
       "  </thead>\n",
       "  <tbody>\n",
       "    <tr>\n",
       "      <th>0</th>\n",
       "      <td>241032</td>\n",
       "      <td>https://www.airbnb.com/rooms/241032</td>\n",
       "      <td>20160104002432</td>\n",
       "      <td>2016-01-04</td>\n",
       "      <td>Stylish Queen Anne Apartment</td>\n",
       "      <td>NaN</td>\n",
       "      <td>Make your self at home in this charming one-be...</td>\n",
       "      <td>Make your self at home in this charming one-be...</td>\n",
       "      <td>none</td>\n",
       "      <td>NaN</td>\n",
       "      <td>...</td>\n",
       "      <td>10.0</td>\n",
       "      <td>f</td>\n",
       "      <td>NaN</td>\n",
       "      <td>WASHINGTON</td>\n",
       "      <td>f</td>\n",
       "      <td>moderate</td>\n",
       "      <td>f</td>\n",
       "      <td>f</td>\n",
       "      <td>2</td>\n",
       "      <td>4.07</td>\n",
       "    </tr>\n",
       "    <tr>\n",
       "      <th>1</th>\n",
       "      <td>953595</td>\n",
       "      <td>https://www.airbnb.com/rooms/953595</td>\n",
       "      <td>20160104002432</td>\n",
       "      <td>2016-01-04</td>\n",
       "      <td>Bright &amp; Airy Queen Anne Apartment</td>\n",
       "      <td>Chemically sensitive? We've removed the irrita...</td>\n",
       "      <td>Beautiful, hypoallergenic apartment in an extr...</td>\n",
       "      <td>Chemically sensitive? We've removed the irrita...</td>\n",
       "      <td>none</td>\n",
       "      <td>Queen Anne is a wonderful, truly functional vi...</td>\n",
       "      <td>...</td>\n",
       "      <td>10.0</td>\n",
       "      <td>f</td>\n",
       "      <td>NaN</td>\n",
       "      <td>WASHINGTON</td>\n",
       "      <td>f</td>\n",
       "      <td>strict</td>\n",
       "      <td>t</td>\n",
       "      <td>t</td>\n",
       "      <td>6</td>\n",
       "      <td>1.48</td>\n",
       "    </tr>\n",
       "    <tr>\n",
       "      <th>2</th>\n",
       "      <td>3308979</td>\n",
       "      <td>https://www.airbnb.com/rooms/3308979</td>\n",
       "      <td>20160104002432</td>\n",
       "      <td>2016-01-04</td>\n",
       "      <td>New Modern House-Amazing water view</td>\n",
       "      <td>New modern house built in 2013.  Spectacular s...</td>\n",
       "      <td>Our house is modern, light and fresh with a wa...</td>\n",
       "      <td>New modern house built in 2013.  Spectacular s...</td>\n",
       "      <td>none</td>\n",
       "      <td>Upper Queen Anne is a charming neighborhood fu...</td>\n",
       "      <td>...</td>\n",
       "      <td>10.0</td>\n",
       "      <td>f</td>\n",
       "      <td>NaN</td>\n",
       "      <td>WASHINGTON</td>\n",
       "      <td>f</td>\n",
       "      <td>strict</td>\n",
       "      <td>f</td>\n",
       "      <td>f</td>\n",
       "      <td>2</td>\n",
       "      <td>1.15</td>\n",
       "    </tr>\n",
       "    <tr>\n",
       "      <th>3</th>\n",
       "      <td>7421966</td>\n",
       "      <td>https://www.airbnb.com/rooms/7421966</td>\n",
       "      <td>20160104002432</td>\n",
       "      <td>2016-01-04</td>\n",
       "      <td>Queen Anne Chateau</td>\n",
       "      <td>A charming apartment that sits atop Queen Anne...</td>\n",
       "      <td>NaN</td>\n",
       "      <td>A charming apartment that sits atop Queen Anne...</td>\n",
       "      <td>none</td>\n",
       "      <td>NaN</td>\n",
       "      <td>...</td>\n",
       "      <td>NaN</td>\n",
       "      <td>f</td>\n",
       "      <td>NaN</td>\n",
       "      <td>WASHINGTON</td>\n",
       "      <td>f</td>\n",
       "      <td>flexible</td>\n",
       "      <td>f</td>\n",
       "      <td>f</td>\n",
       "      <td>1</td>\n",
       "      <td>NaN</td>\n",
       "    </tr>\n",
       "    <tr>\n",
       "      <th>4</th>\n",
       "      <td>278830</td>\n",
       "      <td>https://www.airbnb.com/rooms/278830</td>\n",
       "      <td>20160104002432</td>\n",
       "      <td>2016-01-04</td>\n",
       "      <td>Charming craftsman 3 bdm house</td>\n",
       "      <td>Cozy family craftman house in beautiful neighb...</td>\n",
       "      <td>Cozy family craftman house in beautiful neighb...</td>\n",
       "      <td>Cozy family craftman house in beautiful neighb...</td>\n",
       "      <td>none</td>\n",
       "      <td>We are in the beautiful neighborhood of Queen ...</td>\n",
       "      <td>...</td>\n",
       "      <td>9.0</td>\n",
       "      <td>f</td>\n",
       "      <td>NaN</td>\n",
       "      <td>WASHINGTON</td>\n",
       "      <td>f</td>\n",
       "      <td>strict</td>\n",
       "      <td>f</td>\n",
       "      <td>f</td>\n",
       "      <td>1</td>\n",
       "      <td>0.89</td>\n",
       "    </tr>\n",
       "  </tbody>\n",
       "</table>\n",
       "<p>5 rows × 92 columns</p>\n",
       "</div>"
      ],
      "text/plain": [
       "        id                           listing_url       scrape_id last_scraped  \\\n",
       "0   241032   https://www.airbnb.com/rooms/241032  20160104002432   2016-01-04   \n",
       "1   953595   https://www.airbnb.com/rooms/953595  20160104002432   2016-01-04   \n",
       "2  3308979  https://www.airbnb.com/rooms/3308979  20160104002432   2016-01-04   \n",
       "3  7421966  https://www.airbnb.com/rooms/7421966  20160104002432   2016-01-04   \n",
       "4   278830   https://www.airbnb.com/rooms/278830  20160104002432   2016-01-04   \n",
       "\n",
       "                                  name  \\\n",
       "0         Stylish Queen Anne Apartment   \n",
       "1   Bright & Airy Queen Anne Apartment   \n",
       "2  New Modern House-Amazing water view   \n",
       "3                   Queen Anne Chateau   \n",
       "4       Charming craftsman 3 bdm house   \n",
       "\n",
       "                                             summary  \\\n",
       "0                                                NaN   \n",
       "1  Chemically sensitive? We've removed the irrita...   \n",
       "2  New modern house built in 2013.  Spectacular s...   \n",
       "3  A charming apartment that sits atop Queen Anne...   \n",
       "4  Cozy family craftman house in beautiful neighb...   \n",
       "\n",
       "                                               space  \\\n",
       "0  Make your self at home in this charming one-be...   \n",
       "1  Beautiful, hypoallergenic apartment in an extr...   \n",
       "2  Our house is modern, light and fresh with a wa...   \n",
       "3                                                NaN   \n",
       "4  Cozy family craftman house in beautiful neighb...   \n",
       "\n",
       "                                         description experiences_offered  \\\n",
       "0  Make your self at home in this charming one-be...                none   \n",
       "1  Chemically sensitive? We've removed the irrita...                none   \n",
       "2  New modern house built in 2013.  Spectacular s...                none   \n",
       "3  A charming apartment that sits atop Queen Anne...                none   \n",
       "4  Cozy family craftman house in beautiful neighb...                none   \n",
       "\n",
       "                               neighborhood_overview  ... review_scores_value  \\\n",
       "0                                                NaN  ...                10.0   \n",
       "1  Queen Anne is a wonderful, truly functional vi...  ...                10.0   \n",
       "2  Upper Queen Anne is a charming neighborhood fu...  ...                10.0   \n",
       "3                                                NaN  ...                 NaN   \n",
       "4  We are in the beautiful neighborhood of Queen ...  ...                 9.0   \n",
       "\n",
       "  requires_license license jurisdiction_names instant_bookable  \\\n",
       "0                f     NaN         WASHINGTON                f   \n",
       "1                f     NaN         WASHINGTON                f   \n",
       "2                f     NaN         WASHINGTON                f   \n",
       "3                f     NaN         WASHINGTON                f   \n",
       "4                f     NaN         WASHINGTON                f   \n",
       "\n",
       "  cancellation_policy  require_guest_profile_picture  \\\n",
       "0            moderate                              f   \n",
       "1              strict                              t   \n",
       "2              strict                              f   \n",
       "3            flexible                              f   \n",
       "4              strict                              f   \n",
       "\n",
       "  require_guest_phone_verification calculated_host_listings_count  \\\n",
       "0                                f                              2   \n",
       "1                                t                              6   \n",
       "2                                f                              2   \n",
       "3                                f                              1   \n",
       "4                                f                              1   \n",
       "\n",
       "  reviews_per_month  \n",
       "0              4.07  \n",
       "1              1.48  \n",
       "2              1.15  \n",
       "3               NaN  \n",
       "4              0.89  \n",
       "\n",
       "[5 rows x 92 columns]"
      ]
     },
     "execution_count": 5,
     "metadata": {},
     "output_type": "execute_result"
    }
   ],
   "source": [
    "df_listing.head()"
   ]
  },
  {
   "cell_type": "markdown",
   "id": "cfc3ee7d",
   "metadata": {},
   "source": [
    "***2.1. Data Cleaning & Visualization***"
   ]
  },
  {
   "cell_type": "code",
   "execution_count": 6,
   "id": "890b47dc",
   "metadata": {},
   "outputs": [
    {
     "name": "stdout",
     "output_type": "stream",
     "text": [
      "<class 'pandas.core.frame.DataFrame'>\n",
      "RangeIndex: 3818 entries, 0 to 3817\n",
      "Data columns (total 92 columns):\n",
      " #   Column                            Non-Null Count  Dtype  \n",
      "---  ------                            --------------  -----  \n",
      " 0   id                                3818 non-null   int64  \n",
      " 1   listing_url                       3818 non-null   object \n",
      " 2   scrape_id                         3818 non-null   int64  \n",
      " 3   last_scraped                      3818 non-null   object \n",
      " 4   name                              3818 non-null   object \n",
      " 5   summary                           3641 non-null   object \n",
      " 6   space                             3249 non-null   object \n",
      " 7   description                       3818 non-null   object \n",
      " 8   experiences_offered               3818 non-null   object \n",
      " 9   neighborhood_overview             2786 non-null   object \n",
      " 10  notes                             2212 non-null   object \n",
      " 11  transit                           2884 non-null   object \n",
      " 12  thumbnail_url                     3498 non-null   object \n",
      " 13  medium_url                        3498 non-null   object \n",
      " 14  picture_url                       3818 non-null   object \n",
      " 15  xl_picture_url                    3498 non-null   object \n",
      " 16  host_id                           3818 non-null   int64  \n",
      " 17  host_url                          3818 non-null   object \n",
      " 18  host_name                         3816 non-null   object \n",
      " 19  host_since                        3816 non-null   object \n",
      " 20  host_location                     3810 non-null   object \n",
      " 21  host_about                        2959 non-null   object \n",
      " 22  host_response_time                3295 non-null   object \n",
      " 23  host_response_rate                3295 non-null   object \n",
      " 24  host_acceptance_rate              3045 non-null   object \n",
      " 25  host_is_superhost                 3816 non-null   object \n",
      " 26  host_thumbnail_url                3816 non-null   object \n",
      " 27  host_picture_url                  3816 non-null   object \n",
      " 28  host_neighbourhood                3518 non-null   object \n",
      " 29  host_listings_count               3816 non-null   float64\n",
      " 30  host_total_listings_count         3816 non-null   float64\n",
      " 31  host_verifications                3818 non-null   object \n",
      " 32  host_has_profile_pic              3816 non-null   object \n",
      " 33  host_identity_verified            3816 non-null   object \n",
      " 34  street                            3818 non-null   object \n",
      " 35  neighbourhood                     3402 non-null   object \n",
      " 36  neighbourhood_cleansed            3818 non-null   object \n",
      " 37  neighbourhood_group_cleansed      3818 non-null   object \n",
      " 38  city                              3818 non-null   object \n",
      " 39  state                             3818 non-null   object \n",
      " 40  zipcode                           3811 non-null   object \n",
      " 41  market                            3818 non-null   object \n",
      " 42  smart_location                    3818 non-null   object \n",
      " 43  country_code                      3818 non-null   object \n",
      " 44  country                           3818 non-null   object \n",
      " 45  latitude                          3818 non-null   float64\n",
      " 46  longitude                         3818 non-null   float64\n",
      " 47  is_location_exact                 3818 non-null   object \n",
      " 48  property_type                     3817 non-null   object \n",
      " 49  room_type                         3818 non-null   object \n",
      " 50  accommodates                      3818 non-null   int64  \n",
      " 51  bathrooms                         3802 non-null   float64\n",
      " 52  bedrooms                          3812 non-null   float64\n",
      " 53  beds                              3817 non-null   float64\n",
      " 54  bed_type                          3818 non-null   object \n",
      " 55  amenities                         3818 non-null   object \n",
      " 56  square_feet                       97 non-null     float64\n",
      " 57  price                             3818 non-null   object \n",
      " 58  weekly_price                      2009 non-null   object \n",
      " 59  monthly_price                     1517 non-null   object \n",
      " 60  security_deposit                  1866 non-null   object \n",
      " 61  cleaning_fee                      2788 non-null   object \n",
      " 62  guests_included                   3818 non-null   int64  \n",
      " 63  extra_people                      3818 non-null   object \n",
      " 64  minimum_nights                    3818 non-null   int64  \n",
      " 65  maximum_nights                    3818 non-null   int64  \n",
      " 66  calendar_updated                  3818 non-null   object \n",
      " 67  has_availability                  3818 non-null   object \n",
      " 68  availability_30                   3818 non-null   int64  \n",
      " 69  availability_60                   3818 non-null   int64  \n",
      " 70  availability_90                   3818 non-null   int64  \n",
      " 71  availability_365                  3818 non-null   int64  \n",
      " 72  calendar_last_scraped             3818 non-null   object \n",
      " 73  number_of_reviews                 3818 non-null   int64  \n",
      " 74  first_review                      3191 non-null   object \n",
      " 75  last_review                       3191 non-null   object \n",
      " 76  review_scores_rating              3171 non-null   float64\n",
      " 77  review_scores_accuracy            3160 non-null   float64\n",
      " 78  review_scores_cleanliness         3165 non-null   float64\n",
      " 79  review_scores_checkin             3160 non-null   float64\n",
      " 80  review_scores_communication       3167 non-null   float64\n",
      " 81  review_scores_location            3163 non-null   float64\n",
      " 82  review_scores_value               3162 non-null   float64\n",
      " 83  requires_license                  3818 non-null   object \n",
      " 84  license                           0 non-null      float64\n",
      " 85  jurisdiction_names                3818 non-null   object \n",
      " 86  instant_bookable                  3818 non-null   object \n",
      " 87  cancellation_policy               3818 non-null   object \n",
      " 88  require_guest_profile_picture     3818 non-null   object \n",
      " 89  require_guest_phone_verification  3818 non-null   object \n",
      " 90  calculated_host_listings_count    3818 non-null   int64  \n",
      " 91  reviews_per_month                 3191 non-null   float64\n",
      "dtypes: float64(17), int64(13), object(62)\n",
      "memory usage: 2.7+ MB\n"
     ]
    }
   ],
   "source": [
    "df_listing.info()"
   ]
  },
  {
   "cell_type": "markdown",
   "id": "edb39e35",
   "metadata": {},
   "source": [
    "We just consider some important columns for future modeling for df_listing:"
   ]
  },
  {
   "cell_type": "code",
   "execution_count": 7,
   "id": "e6eeba4e",
   "metadata": {},
   "outputs": [],
   "source": [
    "df_listing_new = df_listing[['id','room_type', 'accommodates','bathrooms', 'bedrooms', 'beds', 'bed_type'\n",
    "                             ,'review_scores_rating','review_scores_accuracy', \n",
    "                             'review_scores_cleanliness','review_scores_checkin', 'review_scores_communication',\n",
    "                             'review_scores_location', 'review_scores_value', 'host_since', 'host_response_rate',\n",
    "                             'host_acceptance_rate', 'host_is_superhost','extra_people' ]]"
   ]
  },
  {
   "cell_type": "code",
   "execution_count": 8,
   "id": "a6f67cb6",
   "metadata": {},
   "outputs": [
    {
     "data": {
      "text/plain": [
       "id                               0\n",
       "room_type                        0\n",
       "accommodates                     0\n",
       "bathrooms                       16\n",
       "bedrooms                         6\n",
       "beds                             1\n",
       "bed_type                         0\n",
       "review_scores_rating           647\n",
       "review_scores_accuracy         658\n",
       "review_scores_cleanliness      653\n",
       "review_scores_checkin          658\n",
       "review_scores_communication    651\n",
       "review_scores_location         655\n",
       "review_scores_value            656\n",
       "host_since                       2\n",
       "host_response_rate             523\n",
       "host_acceptance_rate           773\n",
       "host_is_superhost                2\n",
       "extra_people                     0\n",
       "dtype: int64"
      ]
     },
     "execution_count": 8,
     "metadata": {},
     "output_type": "execute_result"
    }
   ],
   "source": [
    "df_listing_new.isnull().sum()"
   ]
  },
  {
   "cell_type": "code",
   "execution_count": 9,
   "id": "842d4379",
   "metadata": {},
   "outputs": [
    {
     "name": "stdout",
     "output_type": "stream",
     "text": [
      "<class 'pandas.core.frame.DataFrame'>\n",
      "RangeIndex: 1393570 entries, 0 to 1393569\n",
      "Data columns (total 4 columns):\n",
      " #   Column      Non-Null Count    Dtype \n",
      "---  ------      --------------    ----- \n",
      " 0   listing_id  1393570 non-null  int64 \n",
      " 1   date        1393570 non-null  object\n",
      " 2   available   1393570 non-null  object\n",
      " 3   price       934542 non-null   object\n",
      "dtypes: int64(1), object(3)\n",
      "memory usage: 42.5+ MB\n"
     ]
    }
   ],
   "source": [
    "df_calander.info()"
   ]
  },
  {
   "cell_type": "markdown",
   "id": "0c982247",
   "metadata": {},
   "source": [
    "Finding null values in datasets:"
   ]
  },
  {
   "cell_type": "code",
   "execution_count": 10,
   "id": "9fb9c9f7",
   "metadata": {},
   "outputs": [
    {
     "data": {
      "text/plain": [
       "listing_id         0\n",
       "date               0\n",
       "available          0\n",
       "price         459028\n",
       "dtype: int64"
      ]
     },
     "execution_count": 10,
     "metadata": {},
     "output_type": "execute_result"
    }
   ],
   "source": [
    "df_calander.isnull().sum()"
   ]
  },
  {
   "cell_type": "code",
   "execution_count": 11,
   "id": "60a691db",
   "metadata": {},
   "outputs": [
    {
     "data": {
      "text/plain": [
       "'2016-01-04'"
      ]
     },
     "execution_count": 11,
     "metadata": {},
     "output_type": "execute_result"
    }
   ],
   "source": [
    "df_calander['date'].min()"
   ]
  },
  {
   "cell_type": "code",
   "execution_count": 12,
   "id": "3f64bcea",
   "metadata": {},
   "outputs": [
    {
     "data": {
      "text/plain": [
       "'2017-01-02'"
      ]
     },
     "execution_count": 12,
     "metadata": {},
     "output_type": "execute_result"
    }
   ],
   "source": [
    "df_calander['date'].max()"
   ]
  },
  {
   "cell_type": "code",
   "execution_count": 13,
   "id": "17daff89",
   "metadata": {},
   "outputs": [],
   "source": [
    "df_calander['date']= pd.to_datetime(df_calander['date'])"
   ]
  },
  {
   "cell_type": "code",
   "execution_count": 14,
   "id": "b046bf65",
   "metadata": {},
   "outputs": [],
   "source": [
    "df_calander['month']=df_calander['date'].dt.month"
   ]
  },
  {
   "cell_type": "markdown",
   "id": "556ec8bf",
   "metadata": {},
   "source": [
    "I restrict the data to year ='2016' for better comparison."
   ]
  },
  {
   "cell_type": "code",
   "execution_count": 15,
   "id": "e78251fc",
   "metadata": {},
   "outputs": [],
   "source": [
    "df_calander_new = df_calander[df_calander['date']<'2017-01-01']"
   ]
  },
  {
   "cell_type": "markdown",
   "id": "52645ee8",
   "metadata": {},
   "source": [
    "The next step is combining two dataframes on the listing ids. In this way, we can analyze the data easier."
   ]
  },
  {
   "cell_type": "code",
   "execution_count": 16,
   "id": "29aab3f9",
   "metadata": {},
   "outputs": [],
   "source": [
    "df_combined =  df_calander_new.merge(df_listing_new, left_on='listing_id', right_on='id', how='inner')"
   ]
  },
  {
   "cell_type": "code",
   "execution_count": 17,
   "id": "ce78d625",
   "metadata": {},
   "outputs": [
    {
     "data": {
      "text/html": [
       "<div>\n",
       "<style scoped>\n",
       "    .dataframe tbody tr th:only-of-type {\n",
       "        vertical-align: middle;\n",
       "    }\n",
       "\n",
       "    .dataframe tbody tr th {\n",
       "        vertical-align: top;\n",
       "    }\n",
       "\n",
       "    .dataframe thead th {\n",
       "        text-align: right;\n",
       "    }\n",
       "</style>\n",
       "<table border=\"1\" class=\"dataframe\">\n",
       "  <thead>\n",
       "    <tr style=\"text-align: right;\">\n",
       "      <th></th>\n",
       "      <th>listing_id</th>\n",
       "      <th>date</th>\n",
       "      <th>available</th>\n",
       "      <th>price</th>\n",
       "      <th>month</th>\n",
       "      <th>id</th>\n",
       "      <th>room_type</th>\n",
       "      <th>accommodates</th>\n",
       "      <th>bathrooms</th>\n",
       "      <th>bedrooms</th>\n",
       "      <th>...</th>\n",
       "      <th>review_scores_cleanliness</th>\n",
       "      <th>review_scores_checkin</th>\n",
       "      <th>review_scores_communication</th>\n",
       "      <th>review_scores_location</th>\n",
       "      <th>review_scores_value</th>\n",
       "      <th>host_since</th>\n",
       "      <th>host_response_rate</th>\n",
       "      <th>host_acceptance_rate</th>\n",
       "      <th>host_is_superhost</th>\n",
       "      <th>extra_people</th>\n",
       "    </tr>\n",
       "  </thead>\n",
       "  <tbody>\n",
       "    <tr>\n",
       "      <th>0</th>\n",
       "      <td>241032</td>\n",
       "      <td>2016-01-04</td>\n",
       "      <td>t</td>\n",
       "      <td>$85.00</td>\n",
       "      <td>1</td>\n",
       "      <td>241032</td>\n",
       "      <td>Entire home/apt</td>\n",
       "      <td>4</td>\n",
       "      <td>1.0</td>\n",
       "      <td>1.0</td>\n",
       "      <td>...</td>\n",
       "      <td>10.0</td>\n",
       "      <td>10.0</td>\n",
       "      <td>10.0</td>\n",
       "      <td>9.0</td>\n",
       "      <td>10.0</td>\n",
       "      <td>2011-08-11</td>\n",
       "      <td>96%</td>\n",
       "      <td>100%</td>\n",
       "      <td>f</td>\n",
       "      <td>$5.00</td>\n",
       "    </tr>\n",
       "    <tr>\n",
       "      <th>1</th>\n",
       "      <td>241032</td>\n",
       "      <td>2016-01-05</td>\n",
       "      <td>t</td>\n",
       "      <td>$85.00</td>\n",
       "      <td>1</td>\n",
       "      <td>241032</td>\n",
       "      <td>Entire home/apt</td>\n",
       "      <td>4</td>\n",
       "      <td>1.0</td>\n",
       "      <td>1.0</td>\n",
       "      <td>...</td>\n",
       "      <td>10.0</td>\n",
       "      <td>10.0</td>\n",
       "      <td>10.0</td>\n",
       "      <td>9.0</td>\n",
       "      <td>10.0</td>\n",
       "      <td>2011-08-11</td>\n",
       "      <td>96%</td>\n",
       "      <td>100%</td>\n",
       "      <td>f</td>\n",
       "      <td>$5.00</td>\n",
       "    </tr>\n",
       "    <tr>\n",
       "      <th>2</th>\n",
       "      <td>241032</td>\n",
       "      <td>2016-01-06</td>\n",
       "      <td>f</td>\n",
       "      <td>NaN</td>\n",
       "      <td>1</td>\n",
       "      <td>241032</td>\n",
       "      <td>Entire home/apt</td>\n",
       "      <td>4</td>\n",
       "      <td>1.0</td>\n",
       "      <td>1.0</td>\n",
       "      <td>...</td>\n",
       "      <td>10.0</td>\n",
       "      <td>10.0</td>\n",
       "      <td>10.0</td>\n",
       "      <td>9.0</td>\n",
       "      <td>10.0</td>\n",
       "      <td>2011-08-11</td>\n",
       "      <td>96%</td>\n",
       "      <td>100%</td>\n",
       "      <td>f</td>\n",
       "      <td>$5.00</td>\n",
       "    </tr>\n",
       "    <tr>\n",
       "      <th>3</th>\n",
       "      <td>241032</td>\n",
       "      <td>2016-01-07</td>\n",
       "      <td>f</td>\n",
       "      <td>NaN</td>\n",
       "      <td>1</td>\n",
       "      <td>241032</td>\n",
       "      <td>Entire home/apt</td>\n",
       "      <td>4</td>\n",
       "      <td>1.0</td>\n",
       "      <td>1.0</td>\n",
       "      <td>...</td>\n",
       "      <td>10.0</td>\n",
       "      <td>10.0</td>\n",
       "      <td>10.0</td>\n",
       "      <td>9.0</td>\n",
       "      <td>10.0</td>\n",
       "      <td>2011-08-11</td>\n",
       "      <td>96%</td>\n",
       "      <td>100%</td>\n",
       "      <td>f</td>\n",
       "      <td>$5.00</td>\n",
       "    </tr>\n",
       "    <tr>\n",
       "      <th>4</th>\n",
       "      <td>241032</td>\n",
       "      <td>2016-01-08</td>\n",
       "      <td>f</td>\n",
       "      <td>NaN</td>\n",
       "      <td>1</td>\n",
       "      <td>241032</td>\n",
       "      <td>Entire home/apt</td>\n",
       "      <td>4</td>\n",
       "      <td>1.0</td>\n",
       "      <td>1.0</td>\n",
       "      <td>...</td>\n",
       "      <td>10.0</td>\n",
       "      <td>10.0</td>\n",
       "      <td>10.0</td>\n",
       "      <td>9.0</td>\n",
       "      <td>10.0</td>\n",
       "      <td>2011-08-11</td>\n",
       "      <td>96%</td>\n",
       "      <td>100%</td>\n",
       "      <td>f</td>\n",
       "      <td>$5.00</td>\n",
       "    </tr>\n",
       "  </tbody>\n",
       "</table>\n",
       "<p>5 rows × 24 columns</p>\n",
       "</div>"
      ],
      "text/plain": [
       "   listing_id       date available   price  month      id        room_type  \\\n",
       "0      241032 2016-01-04         t  $85.00      1  241032  Entire home/apt   \n",
       "1      241032 2016-01-05         t  $85.00      1  241032  Entire home/apt   \n",
       "2      241032 2016-01-06         f     NaN      1  241032  Entire home/apt   \n",
       "3      241032 2016-01-07         f     NaN      1  241032  Entire home/apt   \n",
       "4      241032 2016-01-08         f     NaN      1  241032  Entire home/apt   \n",
       "\n",
       "   accommodates  bathrooms  bedrooms  ...  review_scores_cleanliness  \\\n",
       "0             4        1.0       1.0  ...                       10.0   \n",
       "1             4        1.0       1.0  ...                       10.0   \n",
       "2             4        1.0       1.0  ...                       10.0   \n",
       "3             4        1.0       1.0  ...                       10.0   \n",
       "4             4        1.0       1.0  ...                       10.0   \n",
       "\n",
       "  review_scores_checkin  review_scores_communication  review_scores_location  \\\n",
       "0                  10.0                         10.0                     9.0   \n",
       "1                  10.0                         10.0                     9.0   \n",
       "2                  10.0                         10.0                     9.0   \n",
       "3                  10.0                         10.0                     9.0   \n",
       "4                  10.0                         10.0                     9.0   \n",
       "\n",
       "   review_scores_value  host_since  host_response_rate  host_acceptance_rate  \\\n",
       "0                 10.0  2011-08-11                 96%                  100%   \n",
       "1                 10.0  2011-08-11                 96%                  100%   \n",
       "2                 10.0  2011-08-11                 96%                  100%   \n",
       "3                 10.0  2011-08-11                 96%                  100%   \n",
       "4                 10.0  2011-08-11                 96%                  100%   \n",
       "\n",
       "   host_is_superhost extra_people  \n",
       "0                  f        $5.00  \n",
       "1                  f        $5.00  \n",
       "2                  f        $5.00  \n",
       "3                  f        $5.00  \n",
       "4                  f        $5.00  \n",
       "\n",
       "[5 rows x 24 columns]"
      ]
     },
     "execution_count": 17,
     "metadata": {},
     "output_type": "execute_result"
    }
   ],
   "source": [
    "df_combined.head()"
   ]
  },
  {
   "cell_type": "code",
   "execution_count": 18,
   "id": "d98ef9ff",
   "metadata": {},
   "outputs": [],
   "source": [
    "df_combined.drop(['id','available'], axis=1, inplace=True)"
   ]
  },
  {
   "cell_type": "code",
   "execution_count": 19,
   "id": "64119b98",
   "metadata": {},
   "outputs": [],
   "source": [
    "df_combined['price'] = df_combined['price'].str.replace('$', '', regex=True)\n"
   ]
  },
  {
   "cell_type": "code",
   "execution_count": 20,
   "id": "08ca9f55",
   "metadata": {},
   "outputs": [],
   "source": [
    "df_combined['price'] = df_combined['price'].str.replace(',', '')\n"
   ]
  },
  {
   "cell_type": "code",
   "execution_count": 21,
   "id": "dc710827",
   "metadata": {},
   "outputs": [],
   "source": [
    "df_combined['price']=df_combined.price.astype(float)"
   ]
  },
  {
   "cell_type": "code",
   "execution_count": 22,
   "id": "ff7ec278",
   "metadata": {},
   "outputs": [
    {
     "data": {
      "text/html": [
       "<div>\n",
       "<style scoped>\n",
       "    .dataframe tbody tr th:only-of-type {\n",
       "        vertical-align: middle;\n",
       "    }\n",
       "\n",
       "    .dataframe tbody tr th {\n",
       "        vertical-align: top;\n",
       "    }\n",
       "\n",
       "    .dataframe thead th {\n",
       "        text-align: right;\n",
       "    }\n",
       "</style>\n",
       "<table border=\"1\" class=\"dataframe\">\n",
       "  <thead>\n",
       "    <tr style=\"text-align: right;\">\n",
       "      <th></th>\n",
       "      <th>listing_id</th>\n",
       "      <th>date</th>\n",
       "      <th>price</th>\n",
       "      <th>month</th>\n",
       "      <th>room_type</th>\n",
       "      <th>accommodates</th>\n",
       "      <th>bathrooms</th>\n",
       "      <th>bedrooms</th>\n",
       "      <th>beds</th>\n",
       "      <th>bed_type</th>\n",
       "      <th>...</th>\n",
       "      <th>review_scores_checkin</th>\n",
       "      <th>review_scores_communication</th>\n",
       "      <th>review_scores_location</th>\n",
       "      <th>review_scores_value</th>\n",
       "      <th>host_since</th>\n",
       "      <th>host_response_rate</th>\n",
       "      <th>host_acceptance_rate</th>\n",
       "      <th>host_is_superhost</th>\n",
       "      <th>extra_people</th>\n",
       "      <th>month_label</th>\n",
       "    </tr>\n",
       "  </thead>\n",
       "  <tbody>\n",
       "    <tr>\n",
       "      <th>0</th>\n",
       "      <td>241032</td>\n",
       "      <td>2016-01-04</td>\n",
       "      <td>85.0</td>\n",
       "      <td>1</td>\n",
       "      <td>Entire home/apt</td>\n",
       "      <td>4</td>\n",
       "      <td>1.0</td>\n",
       "      <td>1.0</td>\n",
       "      <td>1.0</td>\n",
       "      <td>Real Bed</td>\n",
       "      <td>...</td>\n",
       "      <td>10.0</td>\n",
       "      <td>10.0</td>\n",
       "      <td>9.0</td>\n",
       "      <td>10.0</td>\n",
       "      <td>2011-08-11</td>\n",
       "      <td>96%</td>\n",
       "      <td>100%</td>\n",
       "      <td>f</td>\n",
       "      <td>$5.00</td>\n",
       "      <td>Jan</td>\n",
       "    </tr>\n",
       "    <tr>\n",
       "      <th>1</th>\n",
       "      <td>241032</td>\n",
       "      <td>2016-01-05</td>\n",
       "      <td>85.0</td>\n",
       "      <td>1</td>\n",
       "      <td>Entire home/apt</td>\n",
       "      <td>4</td>\n",
       "      <td>1.0</td>\n",
       "      <td>1.0</td>\n",
       "      <td>1.0</td>\n",
       "      <td>Real Bed</td>\n",
       "      <td>...</td>\n",
       "      <td>10.0</td>\n",
       "      <td>10.0</td>\n",
       "      <td>9.0</td>\n",
       "      <td>10.0</td>\n",
       "      <td>2011-08-11</td>\n",
       "      <td>96%</td>\n",
       "      <td>100%</td>\n",
       "      <td>f</td>\n",
       "      <td>$5.00</td>\n",
       "      <td>Jan</td>\n",
       "    </tr>\n",
       "    <tr>\n",
       "      <th>2</th>\n",
       "      <td>241032</td>\n",
       "      <td>2016-01-06</td>\n",
       "      <td>NaN</td>\n",
       "      <td>1</td>\n",
       "      <td>Entire home/apt</td>\n",
       "      <td>4</td>\n",
       "      <td>1.0</td>\n",
       "      <td>1.0</td>\n",
       "      <td>1.0</td>\n",
       "      <td>Real Bed</td>\n",
       "      <td>...</td>\n",
       "      <td>10.0</td>\n",
       "      <td>10.0</td>\n",
       "      <td>9.0</td>\n",
       "      <td>10.0</td>\n",
       "      <td>2011-08-11</td>\n",
       "      <td>96%</td>\n",
       "      <td>100%</td>\n",
       "      <td>f</td>\n",
       "      <td>$5.00</td>\n",
       "      <td>Jan</td>\n",
       "    </tr>\n",
       "    <tr>\n",
       "      <th>3</th>\n",
       "      <td>241032</td>\n",
       "      <td>2016-01-07</td>\n",
       "      <td>NaN</td>\n",
       "      <td>1</td>\n",
       "      <td>Entire home/apt</td>\n",
       "      <td>4</td>\n",
       "      <td>1.0</td>\n",
       "      <td>1.0</td>\n",
       "      <td>1.0</td>\n",
       "      <td>Real Bed</td>\n",
       "      <td>...</td>\n",
       "      <td>10.0</td>\n",
       "      <td>10.0</td>\n",
       "      <td>9.0</td>\n",
       "      <td>10.0</td>\n",
       "      <td>2011-08-11</td>\n",
       "      <td>96%</td>\n",
       "      <td>100%</td>\n",
       "      <td>f</td>\n",
       "      <td>$5.00</td>\n",
       "      <td>Jan</td>\n",
       "    </tr>\n",
       "    <tr>\n",
       "      <th>4</th>\n",
       "      <td>241032</td>\n",
       "      <td>2016-01-08</td>\n",
       "      <td>NaN</td>\n",
       "      <td>1</td>\n",
       "      <td>Entire home/apt</td>\n",
       "      <td>4</td>\n",
       "      <td>1.0</td>\n",
       "      <td>1.0</td>\n",
       "      <td>1.0</td>\n",
       "      <td>Real Bed</td>\n",
       "      <td>...</td>\n",
       "      <td>10.0</td>\n",
       "      <td>10.0</td>\n",
       "      <td>9.0</td>\n",
       "      <td>10.0</td>\n",
       "      <td>2011-08-11</td>\n",
       "      <td>96%</td>\n",
       "      <td>100%</td>\n",
       "      <td>f</td>\n",
       "      <td>$5.00</td>\n",
       "      <td>Jan</td>\n",
       "    </tr>\n",
       "  </tbody>\n",
       "</table>\n",
       "<p>5 rows × 23 columns</p>\n",
       "</div>"
      ],
      "text/plain": [
       "   listing_id       date  price  month        room_type  accommodates  \\\n",
       "0      241032 2016-01-04   85.0      1  Entire home/apt             4   \n",
       "1      241032 2016-01-05   85.0      1  Entire home/apt             4   \n",
       "2      241032 2016-01-06    NaN      1  Entire home/apt             4   \n",
       "3      241032 2016-01-07    NaN      1  Entire home/apt             4   \n",
       "4      241032 2016-01-08    NaN      1  Entire home/apt             4   \n",
       "\n",
       "   bathrooms  bedrooms  beds  bed_type  ...  review_scores_checkin  \\\n",
       "0        1.0       1.0   1.0  Real Bed  ...                   10.0   \n",
       "1        1.0       1.0   1.0  Real Bed  ...                   10.0   \n",
       "2        1.0       1.0   1.0  Real Bed  ...                   10.0   \n",
       "3        1.0       1.0   1.0  Real Bed  ...                   10.0   \n",
       "4        1.0       1.0   1.0  Real Bed  ...                   10.0   \n",
       "\n",
       "   review_scores_communication  review_scores_location  review_scores_value  \\\n",
       "0                         10.0                     9.0                 10.0   \n",
       "1                         10.0                     9.0                 10.0   \n",
       "2                         10.0                     9.0                 10.0   \n",
       "3                         10.0                     9.0                 10.0   \n",
       "4                         10.0                     9.0                 10.0   \n",
       "\n",
       "   host_since  host_response_rate  host_acceptance_rate host_is_superhost  \\\n",
       "0  2011-08-11                 96%                  100%                 f   \n",
       "1  2011-08-11                 96%                  100%                 f   \n",
       "2  2011-08-11                 96%                  100%                 f   \n",
       "3  2011-08-11                 96%                  100%                 f   \n",
       "4  2011-08-11                 96%                  100%                 f   \n",
       "\n",
       "  extra_people month_label  \n",
       "0        $5.00         Jan  \n",
       "1        $5.00         Jan  \n",
       "2        $5.00         Jan  \n",
       "3        $5.00         Jan  \n",
       "4        $5.00         Jan  \n",
       "\n",
       "[5 rows x 23 columns]"
      ]
     },
     "execution_count": 22,
     "metadata": {},
     "output_type": "execute_result"
    }
   ],
   "source": [
    "df_combined['month_label'] = df_combined['month'].apply(lambda x: calendar.month_abbr[x])\n",
    "df_combined.head()\n"
   ]
  },
  {
   "cell_type": "markdown",
   "id": "a9e56c0d",
   "metadata": {},
   "source": [
    "One question to answer is average per month to see if there are some correlation between season and price."
   ]
  },
  {
   "cell_type": "code",
   "execution_count": 23,
   "id": "873a9630",
   "metadata": {},
   "outputs": [
    {
     "data": {
      "text/html": [
       "<div>\n",
       "<style scoped>\n",
       "    .dataframe tbody tr th:only-of-type {\n",
       "        vertical-align: middle;\n",
       "    }\n",
       "\n",
       "    .dataframe tbody tr th {\n",
       "        vertical-align: top;\n",
       "    }\n",
       "\n",
       "    .dataframe thead th {\n",
       "        text-align: right;\n",
       "    }\n",
       "</style>\n",
       "<table border=\"1\" class=\"dataframe\">\n",
       "  <thead>\n",
       "    <tr style=\"text-align: right;\">\n",
       "      <th></th>\n",
       "      <th>month_label</th>\n",
       "      <th>average_price_per_day</th>\n",
       "    </tr>\n",
       "  </thead>\n",
       "  <tbody>\n",
       "    <tr>\n",
       "      <th>0</th>\n",
       "      <td>Apr</td>\n",
       "      <td>135.097005</td>\n",
       "    </tr>\n",
       "    <tr>\n",
       "      <th>1</th>\n",
       "      <td>Aug</td>\n",
       "      <td>150.656594</td>\n",
       "    </tr>\n",
       "    <tr>\n",
       "      <th>2</th>\n",
       "      <td>Dec</td>\n",
       "      <td>137.251835</td>\n",
       "    </tr>\n",
       "    <tr>\n",
       "      <th>3</th>\n",
       "      <td>Feb</td>\n",
       "      <td>124.293927</td>\n",
       "    </tr>\n",
       "    <tr>\n",
       "      <th>4</th>\n",
       "      <td>Jan</td>\n",
       "      <td>121.568409</td>\n",
       "    </tr>\n",
       "    <tr>\n",
       "      <th>5</th>\n",
       "      <td>Jul</td>\n",
       "      <td>152.094150</td>\n",
       "    </tr>\n",
       "    <tr>\n",
       "      <th>6</th>\n",
       "      <td>Jun</td>\n",
       "      <td>147.473137</td>\n",
       "    </tr>\n",
       "    <tr>\n",
       "      <th>7</th>\n",
       "      <td>Mar</td>\n",
       "      <td>128.644488</td>\n",
       "    </tr>\n",
       "    <tr>\n",
       "      <th>8</th>\n",
       "      <td>May</td>\n",
       "      <td>139.538183</td>\n",
       "    </tr>\n",
       "    <tr>\n",
       "      <th>9</th>\n",
       "      <td>Nov</td>\n",
       "      <td>135.688738</td>\n",
       "    </tr>\n",
       "    <tr>\n",
       "      <th>10</th>\n",
       "      <td>Oct</td>\n",
       "      <td>137.031939</td>\n",
       "    </tr>\n",
       "    <tr>\n",
       "      <th>11</th>\n",
       "      <td>Sep</td>\n",
       "      <td>143.255949</td>\n",
       "    </tr>\n",
       "  </tbody>\n",
       "</table>\n",
       "</div>"
      ],
      "text/plain": [
       "   month_label  average_price_per_day\n",
       "0          Apr             135.097005\n",
       "1          Aug             150.656594\n",
       "2          Dec             137.251835\n",
       "3          Feb             124.293927\n",
       "4          Jan             121.568409\n",
       "5          Jul             152.094150\n",
       "6          Jun             147.473137\n",
       "7          Mar             128.644488\n",
       "8          May             139.538183\n",
       "9          Nov             135.688738\n",
       "10         Oct             137.031939\n",
       "11         Sep             143.255949"
      ]
     },
     "execution_count": 23,
     "metadata": {},
     "output_type": "execute_result"
    }
   ],
   "source": [
    "df_agg_monthly_price = (df_combined\n",
    "                        .groupby(['month_label'])\n",
    "                        .price\n",
    "                        .agg(['mean'])\n",
    "                        .rename({'mean': 'average_price_per_day'}, axis=1)\n",
    "                        .reset_index()\n",
    "                       )\n",
    "\n",
    "df_agg_monthly_price"
   ]
  },
  {
   "cell_type": "code",
   "execution_count": 24,
   "id": "03ee0aab",
   "metadata": {},
   "outputs": [],
   "source": [
    "months = [\"Jan\", \"Feb\", \"Mar\", \"Apr\", \"May\", \"Jun\", \"Jul\", \"Aug\", \"Sep\", \"Oct\", \"Nov\", \"Dec\"]"
   ]
  },
  {
   "cell_type": "code",
   "execution_count": 25,
   "id": "5a40c7fa",
   "metadata": {},
   "outputs": [
    {
     "data": {
      "text/plain": [
       "<matplotlib.axes._subplots.AxesSubplot at 0x7f8e09b9bd90>"
      ]
     },
     "execution_count": 25,
     "metadata": {},
     "output_type": "execute_result"
    },
    {
     "data": {
      "image/png": "[encoded data removed]",
      "text/plain": [
       "<Figure size 432x288 with 1 Axes>"
      ]
     },
     "metadata": {
      "needs_background": "light"
     },
     "output_type": "display_data"
    }
   ],
   "source": [
    "df_agg_monthly_price['month_label'] = pd.Categorical(df_agg_monthly_price['month_label'],\n",
    "                                   categories=[\"Jan\", \"Feb\", \"Mar\", \"Apr\", \"May\", \"Jun\", \"Jul\", \"Aug\", \"Sep\", \"Oct\", \"Nov\", \"Dec\"],\n",
    "                                   ordered=True)\n",
    "\n",
    "\n",
    "sns.lineplot(\n",
    "    data=df_agg_monthly_price,\n",
    "    x=\"month_label\", y=\"average_price_per_day\")"
   ]
  },
  {
   "cell_type": "markdown",
   "id": "31eafd58",
   "metadata": {},
   "source": [
    "As you see here, the maximum average price per day is seen at June, July and August.\n",
    "\n",
    "The lowest price was in January."
   ]
  },
  {
   "cell_type": "code",
   "execution_count": 26,
   "id": "53f9becb",
   "metadata": {},
   "outputs": [],
   "source": [
    "df_combined['host_is_superhost'] = df_combined['host_is_superhost'].map({'f':0 , 't':1})"
   ]
  },
  {
   "cell_type": "code",
   "execution_count": 27,
   "id": "b93a31b7",
   "metadata": {},
   "outputs": [
    {
     "data": {
      "image/png": "[encoded data removed]",
      "text/plain": [
       "<Figure size 432x288 with 1 Axes>"
      ]
     },
     "metadata": {
      "needs_background": "light"
     },
     "output_type": "display_data"
    }
   ],
   "source": [
    "df_combined['room_type'].value_counts().plot(kind='barh');"
   ]
  },
  {
   "cell_type": "markdown",
   "id": "368afe1d",
   "metadata": {},
   "source": [
    "As you see above, most of the requests were for entire home vs room."
   ]
  },
  {
   "cell_type": "code",
   "execution_count": 28,
   "id": "43d5181f",
   "metadata": {},
   "outputs": [
    {
     "name": "stderr",
     "output_type": "stream",
     "text": [
      "/Users/mashtari/opt/anaconda3/lib/python3.8/site-packages/seaborn/distributions.py:2557: FutureWarning: `distplot` is a deprecated function and will be removed in a future version. Please adapt your code to use either `displot` (a figure-level function with similar flexibility) or `histplot` (an axes-level function for histograms).\n",
      "  warnings.warn(msg, FutureWarning)\n"
     ]
    },
    {
     "data": {
      "image/png": "[encoded data removed]",
      "text/plain": [
       "<Figure size 432x288 with 1 Axes>"
      ]
     },
     "metadata": {
      "needs_background": "light"
     },
     "output_type": "display_data"
    }
   ],
   "source": [
    "bins = np.linspace(0,1000,31)\n",
    "g = sns.distplot(df_combined['price'], kde= False, bins=bins)\n"
   ]
  },
  {
   "cell_type": "markdown",
   "id": "16ea1857",
   "metadata": {},
   "source": [
    "As you see here most of the listings price were below 200$ per night."
   ]
  },
  {
   "cell_type": "markdown",
   "id": "cf82a31d",
   "metadata": {},
   "source": [
    "Now, we start to figureout null values in the dataframe. The review scores were replaced by median values. For number of bedrooms, bathrooms, .. the mode was used."
   ]
  },
  {
   "cell_type": "code",
   "execution_count": 29,
   "id": "6e628381",
   "metadata": {},
   "outputs": [],
   "source": [
    "reviews = ['review_scores_rating',\n",
    "           'review_scores_accuracy', 'review_scores_cleanliness',\n",
    "           'review_scores_checkin', 'review_scores_communication',\n",
    "           'review_scores_location', 'review_scores_value']\n",
    "for review in reviews:\n",
    "    df_combined[review].fillna(df_combined[review].median(),inplace=True)"
   ]
  },
  {
   "cell_type": "code",
   "execution_count": 30,
   "id": "34b05f89",
   "metadata": {},
   "outputs": [],
   "source": [
    "room_features = ['accommodates', 'bathrooms', 'bedrooms', 'beds']\n",
    "for feature in room_features:\n",
    "    df_combined[feature].fillna(df_combined[feature].mode()[0],inplace=True)"
   ]
  },
  {
   "cell_type": "code",
   "execution_count": 31,
   "id": "7fc7819f",
   "metadata": {},
   "outputs": [],
   "source": [
    "other_features = ['host_response_rate','host_acceptance_rate']\n",
    "for feature in other_features:\n",
    "    df_combined[feature].fillna(df_combined[feature].mode()[0],inplace=True)"
   ]
  },
  {
   "cell_type": "markdown",
   "id": "fdd41b18",
   "metadata": {},
   "source": [
    "As There were some null prices, to avoid inserting bias in the predictions, the rows with null prices were removed."
   ]
  },
  {
   "cell_type": "code",
   "execution_count": 32,
   "id": "63a53184",
   "metadata": {},
   "outputs": [],
   "source": [
    "df_final = df_combined[df_combined['price'].notnull()]"
   ]
  },
  {
   "cell_type": "code",
   "execution_count": 33,
   "id": "e5388254",
   "metadata": {},
   "outputs": [
    {
     "data": {
      "text/plain": [
       "100%    928481\n",
       "0%         363\n",
       "Name: host_acceptance_rate, dtype: int64"
      ]
     },
     "execution_count": 33,
     "metadata": {},
     "output_type": "execute_result"
    }
   ],
   "source": [
    "df_final['host_acceptance_rate'].value_counts()"
   ]
  },
  {
   "cell_type": "code",
   "execution_count": 34,
   "id": "b3c1502c",
   "metadata": {},
   "outputs": [
    {
     "name": "stdout",
     "output_type": "stream",
     "text": [
      "<class 'pandas.core.frame.DataFrame'>\n",
      "Int64Index: 928844 entries, 0 to 1385579\n",
      "Data columns (total 23 columns):\n",
      " #   Column                       Non-Null Count   Dtype         \n",
      "---  ------                       --------------   -----         \n",
      " 0   listing_id                   928844 non-null  int64         \n",
      " 1   date                         928844 non-null  datetime64[ns]\n",
      " 2   price                        928844 non-null  float64       \n",
      " 3   month                        928844 non-null  int64         \n",
      " 4   room_type                    928844 non-null  object        \n",
      " 5   accommodates                 928844 non-null  int64         \n",
      " 6   bathrooms                    928844 non-null  float64       \n",
      " 7   bedrooms                     928844 non-null  float64       \n",
      " 8   beds                         928844 non-null  float64       \n",
      " 9   bed_type                     928844 non-null  object        \n",
      " 10  review_scores_rating         928844 non-null  float64       \n",
      " 11  review_scores_accuracy       928844 non-null  float64       \n",
      " 12  review_scores_cleanliness    928844 non-null  float64       \n",
      " 13  review_scores_checkin        928844 non-null  float64       \n",
      " 14  review_scores_communication  928844 non-null  float64       \n",
      " 15  review_scores_location       928844 non-null  float64       \n",
      " 16  review_scores_value          928844 non-null  float64       \n",
      " 17  host_since                   928752 non-null  object        \n",
      " 18  host_response_rate           928844 non-null  object        \n",
      " 19  host_acceptance_rate         928844 non-null  object        \n",
      " 20  host_is_superhost            928752 non-null  float64       \n",
      " 21  extra_people                 928844 non-null  object        \n",
      " 22  month_label                  928844 non-null  object        \n",
      "dtypes: datetime64[ns](1), float64(12), int64(3), object(7)\n",
      "memory usage: 170.1+ MB\n"
     ]
    }
   ],
   "source": [
    "df_final.info()"
   ]
  },
  {
   "cell_type": "markdown",
   "id": "dc99e7da",
   "metadata": {},
   "source": [
    "There are still some cleaning work to do. So, the 'extra people' column was modified."
   ]
  },
  {
   "cell_type": "code",
   "execution_count": 35,
   "id": "29772de6",
   "metadata": {},
   "outputs": [
    {
     "name": "stderr",
     "output_type": "stream",
     "text": [
      "<ipython-input-35-1e99df71f7f9>:1: SettingWithCopyWarning: \n",
      "A value is trying to be set on a copy of a slice from a DataFrame.\n",
      "Try using .loc[row_indexer,col_indexer] = value instead\n",
      "\n",
      "See the caveats in the documentation: https://pandas.pydata.org/pandas-docs/stable/user_guide/indexing.html#returning-a-view-versus-a-copy\n",
      "  df_final['extra_people'] = df_final['extra_people'].str.replace('$', '', regex=True)\n"
     ]
    }
   ],
   "source": [
    "df_final['extra_people'] = df_final['extra_people'].str.replace('$', '', regex=True)"
   ]
  },
  {
   "cell_type": "code",
   "execution_count": 36,
   "id": "63852352",
   "metadata": {},
   "outputs": [
    {
     "data": {
      "text/plain": [
       "<matplotlib.axes._subplots.AxesSubplot at 0x7f8df8ab3ca0>"
      ]
     },
     "execution_count": 36,
     "metadata": {},
     "output_type": "execute_result"
    },
    {
     "data": {
      "image/png": "[encoded data removed]",
      "text/plain": [
       "<Figure size 1080x432 with 2 Axes>"
      ]
     },
     "metadata": {
      "needs_background": "light"
     },
     "output_type": "display_data"
    }
   ],
   "source": [
    "fig , ax = plt.subplots(figsize=(15, 6), nrows=1, ncols=1)\n",
    "\n",
    "\n",
    "Var_Corr = df_final.corr()\n",
    "sns.heatmap(Var_Corr, xticklabels=Var_Corr.columns, yticklabels=Var_Corr.columns, annot=True)\n"
   ]
  },
  {
   "cell_type": "markdown",
   "id": "1320b295",
   "metadata": {},
   "source": [
    "This heatmap make it clear that price is more correlated with number of accomodates, bathrooms,bedrooms and beds. Being superhost is also important for reviews."
   ]
  },
  {
   "cell_type": "code",
   "execution_count": 37,
   "id": "935b5330",
   "metadata": {},
   "outputs": [
    {
     "data": {
      "image/png": "[encoded data removed]",
      "text/plain": [
       "<Figure size 720x432 with 1 Axes>"
      ]
     },
     "metadata": {
      "needs_background": "light"
     },
     "output_type": "display_data"
    }
   ],
   "source": [
    "df_agg_accommodate = (df_final\n",
    "                      .groupby(['accommodates'])\n",
    "                      .agg({'price':'mean'})\n",
    "                      .rename({'price': 'average_price'}, axis=1)\n",
    "                      .reset_index()\n",
    "                     )\n",
    "fig, ax = plt.subplots(figsize=(10,6), nrows=1, ncols=1)\n",
    "\n",
    "sns.barplot(x=\"accommodates\", y=\"average_price\", color=sns.color_palette('tab20',10)[0],\n",
    "            data=df_agg_accommodate, ax=ax);"
   ]
  },
  {
   "cell_type": "markdown",
   "id": "286536ce",
   "metadata": {},
   "source": [
    "In most of the cases, higher number of accommodates correlates with higher average prices."
   ]
  },
  {
   "cell_type": "code",
   "execution_count": 38,
   "id": "982d97c9",
   "metadata": {},
   "outputs": [
    {
     "name": "stderr",
     "output_type": "stream",
     "text": [
      "<ipython-input-38-6876058f686d>:2: SettingWithCopyWarning: \n",
      "A value is trying to be set on a copy of a slice from a DataFrame.\n",
      "Try using .loc[row_indexer,col_indexer] = value instead\n",
      "\n",
      "See the caveats in the documentation: https://pandas.pydata.org/pandas-docs/stable/user_guide/indexing.html#returning-a-view-versus-a-copy\n",
      "  df_final['host_since'] = pd.to_datetime(df_final['host_since']).dt.year\n"
     ]
    }
   ],
   "source": [
    "# take the year that hosting started.\n",
    "df_final['host_since'] = pd.to_datetime(df_final['host_since']).dt.year\n"
   ]
  },
  {
   "cell_type": "code",
   "execution_count": 39,
   "id": "f06a8779",
   "metadata": {},
   "outputs": [
    {
     "data": {
      "text/plain": [
       "Index(['listing_id', 'date', 'price', 'month', 'room_type', 'accommodates',\n",
       "       'bathrooms', 'bedrooms', 'beds', 'bed_type', 'review_scores_rating',\n",
       "       'review_scores_accuracy', 'review_scores_cleanliness',\n",
       "       'review_scores_checkin', 'review_scores_communication',\n",
       "       'review_scores_location', 'review_scores_value', 'host_since',\n",
       "       'host_response_rate', 'host_acceptance_rate', 'host_is_superhost',\n",
       "       'extra_people', 'month_label'],\n",
       "      dtype='object')"
      ]
     },
     "execution_count": 39,
     "metadata": {},
     "output_type": "execute_result"
    }
   ],
   "source": [
    "df_final.columns"
   ]
  },
  {
   "cell_type": "markdown",
   "id": "4412d55f",
   "metadata": {},
   "source": [
    "This heatmap make it clear that price is more correlated with number of accomodates, bathrooms,bedrooms and beds. Being superhost is also important for reviews."
   ]
  },
  {
   "cell_type": "markdown",
   "id": "1a94d828",
   "metadata": {},
   "source": [
    "Then, we start to explore categorical columns:"
   ]
  },
  {
   "cell_type": "code",
   "execution_count": 40,
   "id": "a408046c",
   "metadata": {},
   "outputs": [
    {
     "data": {
      "text/plain": [
       "Index(['room_type', 'bed_type', 'host_response_rate', 'host_acceptance_rate',\n",
       "       'extra_people', 'month_label'],\n",
       "      dtype='object')"
      ]
     },
     "execution_count": 40,
     "metadata": {},
     "output_type": "execute_result"
    }
   ],
   "source": [
    "df_final.columns[df_final.dtypes == object]"
   ]
  },
  {
   "cell_type": "code",
   "execution_count": 41,
   "id": "abaa2675",
   "metadata": {},
   "outputs": [
    {
     "name": "stderr",
     "output_type": "stream",
     "text": [
      "<ipython-input-41-6eb118e082b3>:1: SettingWithCopyWarning: \n",
      "A value is trying to be set on a copy of a slice from a DataFrame.\n",
      "Try using .loc[row_indexer,col_indexer] = value instead\n",
      "\n",
      "See the caveats in the documentation: https://pandas.pydata.org/pandas-docs/stable/user_guide/indexing.html#returning-a-view-versus-a-copy\n",
      "  df_final['extra_people'] = df_final['extra_people'].astype(float)\n"
     ]
    }
   ],
   "source": [
    "df_final['extra_people'] = df_final['extra_people'].astype(float)\n"
   ]
  },
  {
   "cell_type": "code",
   "execution_count": 42,
   "id": "ae4a7a58",
   "metadata": {},
   "outputs": [
    {
     "name": "stderr",
     "output_type": "stream",
     "text": [
      "/Users/mashtari/opt/anaconda3/lib/python3.8/site-packages/pandas/core/indexing.py:1597: SettingWithCopyWarning: \n",
      "A value is trying to be set on a copy of a slice from a DataFrame.\n",
      "Try using .loc[row_indexer,col_indexer] = value instead\n",
      "\n",
      "See the caveats in the documentation: https://pandas.pydata.org/pandas-docs/stable/user_guide/indexing.html#returning-a-view-versus-a-copy\n",
      "  self.obj[key] = value\n",
      "/Users/mashtari/opt/anaconda3/lib/python3.8/site-packages/pandas/core/indexing.py:1676: SettingWithCopyWarning: \n",
      "A value is trying to be set on a copy of a slice from a DataFrame.\n",
      "Try using .loc[row_indexer,col_indexer] = value instead\n",
      "\n",
      "See the caveats in the documentation: https://pandas.pydata.org/pandas-docs/stable/user_guide/indexing.html#returning-a-view-versus-a-copy\n",
      "  self._setitem_single_column(ilocs[0], value, pi)\n"
     ]
    }
   ],
   "source": [
    "df_final.loc[:,'extra_people_fee'] = np.where(df_final['extra_people']>0, 1, 0)\n",
    " \n",
    "    "
   ]
  },
  {
   "cell_type": "code",
   "execution_count": 43,
   "id": "15b5c385",
   "metadata": {},
   "outputs": [
    {
     "name": "stderr",
     "output_type": "stream",
     "text": [
      "/Users/mashtari/opt/anaconda3/lib/python3.8/site-packages/pandas/core/frame.py:4308: SettingWithCopyWarning: \n",
      "A value is trying to be set on a copy of a slice from a DataFrame\n",
      "\n",
      "See the caveats in the documentation: https://pandas.pydata.org/pandas-docs/stable/user_guide/indexing.html#returning-a-view-versus-a-copy\n",
      "  return super().drop(\n"
     ]
    }
   ],
   "source": [
    "df_final.drop(['extra_people', 'date', 'month_label', 'listing_id'], axis=1, inplace=True)\n"
   ]
  },
  {
   "cell_type": "code",
   "execution_count": 44,
   "id": "b7d8dd3e",
   "metadata": {},
   "outputs": [
    {
     "name": "stdout",
     "output_type": "stream",
     "text": [
      "<class 'pandas.core.frame.DataFrame'>\n",
      "Int64Index: 928844 entries, 0 to 1385579\n",
      "Data columns (total 20 columns):\n",
      " #   Column                       Non-Null Count   Dtype  \n",
      "---  ------                       --------------   -----  \n",
      " 0   price                        928844 non-null  float64\n",
      " 1   month                        928844 non-null  int64  \n",
      " 2   room_type                    928844 non-null  object \n",
      " 3   accommodates                 928844 non-null  int64  \n",
      " 4   bathrooms                    928844 non-null  float64\n",
      " 5   bedrooms                     928844 non-null  float64\n",
      " 6   beds                         928844 non-null  float64\n",
      " 7   bed_type                     928844 non-null  object \n",
      " 8   review_scores_rating         928844 non-null  float64\n",
      " 9   review_scores_accuracy       928844 non-null  float64\n",
      " 10  review_scores_cleanliness    928844 non-null  float64\n",
      " 11  review_scores_checkin        928844 non-null  float64\n",
      " 12  review_scores_communication  928844 non-null  float64\n",
      " 13  review_scores_location       928844 non-null  float64\n",
      " 14  review_scores_value          928844 non-null  float64\n",
      " 15  host_since                   928752 non-null  float64\n",
      " 16  host_response_rate           928844 non-null  object \n",
      " 17  host_acceptance_rate         928844 non-null  object \n",
      " 18  host_is_superhost            928752 non-null  float64\n",
      " 19  extra_people_fee             928844 non-null  int64  \n",
      "dtypes: float64(13), int64(3), object(4)\n",
      "memory usage: 148.8+ MB\n"
     ]
    }
   ],
   "source": [
    "df_final.info()"
   ]
  },
  {
   "cell_type": "code",
   "execution_count": 45,
   "id": "29e243ec",
   "metadata": {},
   "outputs": [
    {
     "data": {
      "text/html": [
       "<div>\n",
       "<style scoped>\n",
       "    .dataframe tbody tr th:only-of-type {\n",
       "        vertical-align: middle;\n",
       "    }\n",
       "\n",
       "    .dataframe tbody tr th {\n",
       "        vertical-align: top;\n",
       "    }\n",
       "\n",
       "    .dataframe thead th {\n",
       "        text-align: right;\n",
       "    }\n",
       "</style>\n",
       "<table border=\"1\" class=\"dataframe\">\n",
       "  <thead>\n",
       "    <tr style=\"text-align: right;\">\n",
       "      <th></th>\n",
       "      <th>price</th>\n",
       "      <th>month</th>\n",
       "      <th>room_type</th>\n",
       "      <th>accommodates</th>\n",
       "      <th>bathrooms</th>\n",
       "      <th>bedrooms</th>\n",
       "      <th>beds</th>\n",
       "      <th>bed_type</th>\n",
       "      <th>review_scores_rating</th>\n",
       "      <th>review_scores_accuracy</th>\n",
       "      <th>review_scores_cleanliness</th>\n",
       "      <th>review_scores_checkin</th>\n",
       "      <th>review_scores_communication</th>\n",
       "      <th>review_scores_location</th>\n",
       "      <th>review_scores_value</th>\n",
       "      <th>host_since</th>\n",
       "      <th>host_response_rate</th>\n",
       "      <th>host_acceptance_rate</th>\n",
       "      <th>host_is_superhost</th>\n",
       "      <th>extra_people_fee</th>\n",
       "    </tr>\n",
       "  </thead>\n",
       "  <tbody>\n",
       "    <tr>\n",
       "      <th>0</th>\n",
       "      <td>85.0</td>\n",
       "      <td>1</td>\n",
       "      <td>Entire home/apt</td>\n",
       "      <td>4</td>\n",
       "      <td>1.0</td>\n",
       "      <td>1.0</td>\n",
       "      <td>1.0</td>\n",
       "      <td>Real Bed</td>\n",
       "      <td>95.0</td>\n",
       "      <td>10.0</td>\n",
       "      <td>10.0</td>\n",
       "      <td>10.0</td>\n",
       "      <td>10.0</td>\n",
       "      <td>9.0</td>\n",
       "      <td>10.0</td>\n",
       "      <td>2011.0</td>\n",
       "      <td>96%</td>\n",
       "      <td>100%</td>\n",
       "      <td>0.0</td>\n",
       "      <td>1</td>\n",
       "    </tr>\n",
       "    <tr>\n",
       "      <th>1</th>\n",
       "      <td>85.0</td>\n",
       "      <td>1</td>\n",
       "      <td>Entire home/apt</td>\n",
       "      <td>4</td>\n",
       "      <td>1.0</td>\n",
       "      <td>1.0</td>\n",
       "      <td>1.0</td>\n",
       "      <td>Real Bed</td>\n",
       "      <td>95.0</td>\n",
       "      <td>10.0</td>\n",
       "      <td>10.0</td>\n",
       "      <td>10.0</td>\n",
       "      <td>10.0</td>\n",
       "      <td>9.0</td>\n",
       "      <td>10.0</td>\n",
       "      <td>2011.0</td>\n",
       "      <td>96%</td>\n",
       "      <td>100%</td>\n",
       "      <td>0.0</td>\n",
       "      <td>1</td>\n",
       "    </tr>\n",
       "    <tr>\n",
       "      <th>9</th>\n",
       "      <td>85.0</td>\n",
       "      <td>1</td>\n",
       "      <td>Entire home/apt</td>\n",
       "      <td>4</td>\n",
       "      <td>1.0</td>\n",
       "      <td>1.0</td>\n",
       "      <td>1.0</td>\n",
       "      <td>Real Bed</td>\n",
       "      <td>95.0</td>\n",
       "      <td>10.0</td>\n",
       "      <td>10.0</td>\n",
       "      <td>10.0</td>\n",
       "      <td>10.0</td>\n",
       "      <td>9.0</td>\n",
       "      <td>10.0</td>\n",
       "      <td>2011.0</td>\n",
       "      <td>96%</td>\n",
       "      <td>100%</td>\n",
       "      <td>0.0</td>\n",
       "      <td>1</td>\n",
       "    </tr>\n",
       "    <tr>\n",
       "      <th>10</th>\n",
       "      <td>85.0</td>\n",
       "      <td>1</td>\n",
       "      <td>Entire home/apt</td>\n",
       "      <td>4</td>\n",
       "      <td>1.0</td>\n",
       "      <td>1.0</td>\n",
       "      <td>1.0</td>\n",
       "      <td>Real Bed</td>\n",
       "      <td>95.0</td>\n",
       "      <td>10.0</td>\n",
       "      <td>10.0</td>\n",
       "      <td>10.0</td>\n",
       "      <td>10.0</td>\n",
       "      <td>9.0</td>\n",
       "      <td>10.0</td>\n",
       "      <td>2011.0</td>\n",
       "      <td>96%</td>\n",
       "      <td>100%</td>\n",
       "      <td>0.0</td>\n",
       "      <td>1</td>\n",
       "    </tr>\n",
       "    <tr>\n",
       "      <th>14</th>\n",
       "      <td>85.0</td>\n",
       "      <td>1</td>\n",
       "      <td>Entire home/apt</td>\n",
       "      <td>4</td>\n",
       "      <td>1.0</td>\n",
       "      <td>1.0</td>\n",
       "      <td>1.0</td>\n",
       "      <td>Real Bed</td>\n",
       "      <td>95.0</td>\n",
       "      <td>10.0</td>\n",
       "      <td>10.0</td>\n",
       "      <td>10.0</td>\n",
       "      <td>10.0</td>\n",
       "      <td>9.0</td>\n",
       "      <td>10.0</td>\n",
       "      <td>2011.0</td>\n",
       "      <td>96%</td>\n",
       "      <td>100%</td>\n",
       "      <td>0.0</td>\n",
       "      <td>1</td>\n",
       "    </tr>\n",
       "  </tbody>\n",
       "</table>\n",
       "</div>"
      ],
      "text/plain": [
       "    price  month        room_type  accommodates  bathrooms  bedrooms  beds  \\\n",
       "0    85.0      1  Entire home/apt             4        1.0       1.0   1.0   \n",
       "1    85.0      1  Entire home/apt             4        1.0       1.0   1.0   \n",
       "9    85.0      1  Entire home/apt             4        1.0       1.0   1.0   \n",
       "10   85.0      1  Entire home/apt             4        1.0       1.0   1.0   \n",
       "14   85.0      1  Entire home/apt             4        1.0       1.0   1.0   \n",
       "\n",
       "    bed_type  review_scores_rating  review_scores_accuracy  \\\n",
       "0   Real Bed                  95.0                    10.0   \n",
       "1   Real Bed                  95.0                    10.0   \n",
       "9   Real Bed                  95.0                    10.0   \n",
       "10  Real Bed                  95.0                    10.0   \n",
       "14  Real Bed                  95.0                    10.0   \n",
       "\n",
       "    review_scores_cleanliness  review_scores_checkin  \\\n",
       "0                        10.0                   10.0   \n",
       "1                        10.0                   10.0   \n",
       "9                        10.0                   10.0   \n",
       "10                       10.0                   10.0   \n",
       "14                       10.0                   10.0   \n",
       "\n",
       "    review_scores_communication  review_scores_location  review_scores_value  \\\n",
       "0                          10.0                     9.0                 10.0   \n",
       "1                          10.0                     9.0                 10.0   \n",
       "9                          10.0                     9.0                 10.0   \n",
       "10                         10.0                     9.0                 10.0   \n",
       "14                         10.0                     9.0                 10.0   \n",
       "\n",
       "    host_since host_response_rate host_acceptance_rate  host_is_superhost  \\\n",
       "0       2011.0                96%                 100%                0.0   \n",
       "1       2011.0                96%                 100%                0.0   \n",
       "9       2011.0                96%                 100%                0.0   \n",
       "10      2011.0                96%                 100%                0.0   \n",
       "14      2011.0                96%                 100%                0.0   \n",
       "\n",
       "    extra_people_fee  \n",
       "0                  1  \n",
       "1                  1  \n",
       "9                  1  \n",
       "10                 1  \n",
       "14                 1  "
      ]
     },
     "execution_count": 45,
     "metadata": {},
     "output_type": "execute_result"
    }
   ],
   "source": [
    "df_final.head()"
   ]
  },
  {
   "cell_type": "markdown",
   "id": "1495e0a4",
   "metadata": {},
   "source": [
    "Categorical columns converted to dummies to be able to use machine learning models."
   ]
  },
  {
   "cell_type": "markdown",
   "id": "6a3f69ab",
   "metadata": {},
   "source": [
    "***3. Data Modeling***"
   ]
  },
  {
   "cell_type": "code",
   "execution_count": 46,
   "id": "2321523f",
   "metadata": {},
   "outputs": [
    {
     "data": {
      "text/plain": [
       "['room_type', 'bed_type', 'host_response_rate', 'host_acceptance_rate']"
      ]
     },
     "execution_count": 46,
     "metadata": {},
     "output_type": "execute_result"
    }
   ],
   "source": [
    "categorical_cols = df_final.columns[df_final.dtypes == object].tolist()\n",
    "categorical_cols"
   ]
  },
  {
   "cell_type": "code",
   "execution_count": 47,
   "id": "816a28f4",
   "metadata": {},
   "outputs": [],
   "source": [
    "for col in categorical_cols:\n",
    "    df_final = pd.concat([df_final.drop(col, axis=1), pd.get_dummies(df_final[col], prefix=col, prefix_sep='_',\n",
    "                                                               drop_first=True, dummy_na=True)], axis=1)"
   ]
  },
  {
   "cell_type": "code",
   "execution_count": 48,
   "id": "8aa8dd4a",
   "metadata": {},
   "outputs": [],
   "source": [
    "df_final.drop(['host_response_rate_nan','host_acceptance_rate_nan'], axis=1, inplace=True)"
   ]
  },
  {
   "cell_type": "code",
   "execution_count": 49,
   "id": "0c70cc48",
   "metadata": {},
   "outputs": [],
   "source": [
    "def clean_dataset(df):\n",
    "    assert isinstance(df, pd.DataFrame), \"df needs to be a pd.DataFrame\"\n",
    "    df.dropna(inplace=True)\n",
    "    indices_to_keep = ~df.isin([np.nan, np.inf, -np.inf]).any(1)\n",
    "    return df[indices_to_keep].astype(np.float64)"
   ]
  },
  {
   "cell_type": "code",
   "execution_count": 50,
   "id": "c0e56dce",
   "metadata": {},
   "outputs": [],
   "source": [
    "df_clean = clean_dataset(df_final)"
   ]
  },
  {
   "cell_type": "code",
   "execution_count": 51,
   "id": "2c4ae618",
   "metadata": {},
   "outputs": [
    {
     "data": {
      "text/html": [
       "<div>\n",
       "<style scoped>\n",
       "    .dataframe tbody tr th:only-of-type {\n",
       "        vertical-align: middle;\n",
       "    }\n",
       "\n",
       "    .dataframe tbody tr th {\n",
       "        vertical-align: top;\n",
       "    }\n",
       "\n",
       "    .dataframe thead th {\n",
       "        text-align: right;\n",
       "    }\n",
       "</style>\n",
       "<table border=\"1\" class=\"dataframe\">\n",
       "  <thead>\n",
       "    <tr style=\"text-align: right;\">\n",
       "      <th></th>\n",
       "      <th>price</th>\n",
       "      <th>month</th>\n",
       "      <th>accommodates</th>\n",
       "      <th>bathrooms</th>\n",
       "      <th>bedrooms</th>\n",
       "      <th>beds</th>\n",
       "      <th>review_scores_rating</th>\n",
       "      <th>review_scores_accuracy</th>\n",
       "      <th>review_scores_cleanliness</th>\n",
       "      <th>review_scores_checkin</th>\n",
       "      <th>...</th>\n",
       "      <th>host_response_rate_91%</th>\n",
       "      <th>host_response_rate_92%</th>\n",
       "      <th>host_response_rate_93%</th>\n",
       "      <th>host_response_rate_94%</th>\n",
       "      <th>host_response_rate_95%</th>\n",
       "      <th>host_response_rate_96%</th>\n",
       "      <th>host_response_rate_97%</th>\n",
       "      <th>host_response_rate_98%</th>\n",
       "      <th>host_response_rate_99%</th>\n",
       "      <th>host_acceptance_rate_100%</th>\n",
       "    </tr>\n",
       "  </thead>\n",
       "  <tbody>\n",
       "    <tr>\n",
       "      <th>0</th>\n",
       "      <td>85.0</td>\n",
       "      <td>1.0</td>\n",
       "      <td>4.0</td>\n",
       "      <td>1.0</td>\n",
       "      <td>1.0</td>\n",
       "      <td>1.0</td>\n",
       "      <td>95.0</td>\n",
       "      <td>10.0</td>\n",
       "      <td>10.0</td>\n",
       "      <td>10.0</td>\n",
       "      <td>...</td>\n",
       "      <td>0.0</td>\n",
       "      <td>0.0</td>\n",
       "      <td>0.0</td>\n",
       "      <td>0.0</td>\n",
       "      <td>0.0</td>\n",
       "      <td>1.0</td>\n",
       "      <td>0.0</td>\n",
       "      <td>0.0</td>\n",
       "      <td>0.0</td>\n",
       "      <td>1.0</td>\n",
       "    </tr>\n",
       "    <tr>\n",
       "      <th>1</th>\n",
       "      <td>85.0</td>\n",
       "      <td>1.0</td>\n",
       "      <td>4.0</td>\n",
       "      <td>1.0</td>\n",
       "      <td>1.0</td>\n",
       "      <td>1.0</td>\n",
       "      <td>95.0</td>\n",
       "      <td>10.0</td>\n",
       "      <td>10.0</td>\n",
       "      <td>10.0</td>\n",
       "      <td>...</td>\n",
       "      <td>0.0</td>\n",
       "      <td>0.0</td>\n",
       "      <td>0.0</td>\n",
       "      <td>0.0</td>\n",
       "      <td>0.0</td>\n",
       "      <td>1.0</td>\n",
       "      <td>0.0</td>\n",
       "      <td>0.0</td>\n",
       "      <td>0.0</td>\n",
       "      <td>1.0</td>\n",
       "    </tr>\n",
       "  </tbody>\n",
       "</table>\n",
       "<p>2 rows × 69 columns</p>\n",
       "</div>"
      ],
      "text/plain": [
       "   price  month  accommodates  bathrooms  bedrooms  beds  \\\n",
       "0   85.0    1.0           4.0        1.0       1.0   1.0   \n",
       "1   85.0    1.0           4.0        1.0       1.0   1.0   \n",
       "\n",
       "   review_scores_rating  review_scores_accuracy  review_scores_cleanliness  \\\n",
       "0                  95.0                    10.0                       10.0   \n",
       "1                  95.0                    10.0                       10.0   \n",
       "\n",
       "   review_scores_checkin  ...  host_response_rate_91%  host_response_rate_92%  \\\n",
       "0                   10.0  ...                     0.0                     0.0   \n",
       "1                   10.0  ...                     0.0                     0.0   \n",
       "\n",
       "   host_response_rate_93%  host_response_rate_94%  host_response_rate_95%  \\\n",
       "0                     0.0                     0.0                     0.0   \n",
       "1                     0.0                     0.0                     0.0   \n",
       "\n",
       "   host_response_rate_96%  host_response_rate_97%  host_response_rate_98%  \\\n",
       "0                     1.0                     0.0                     0.0   \n",
       "1                     1.0                     0.0                     0.0   \n",
       "\n",
       "   host_response_rate_99%  host_acceptance_rate_100%  \n",
       "0                     0.0                        1.0  \n",
       "1                     0.0                        1.0  \n",
       "\n",
       "[2 rows x 69 columns]"
      ]
     },
     "execution_count": 51,
     "metadata": {},
     "output_type": "execute_result"
    }
   ],
   "source": [
    "df_clean.head(2)"
   ]
  },
  {
   "cell_type": "code",
   "execution_count": 52,
   "id": "c6faace2",
   "metadata": {},
   "outputs": [],
   "source": [
    "X = df_clean.drop(['price'],axis=1)\n",
    "y = df_clean['price']"
   ]
  },
  {
   "cell_type": "code",
   "execution_count": 53,
   "id": "6ecdd943",
   "metadata": {},
   "outputs": [],
   "source": [
    "X_train, X_test, y_train, y_test = train_test_split(X, y, test_size = .3, random_state=42)"
   ]
  },
  {
   "cell_type": "markdown",
   "id": "9e16a7ab",
   "metadata": {},
   "source": [
    "At first, I used random forest model. "
   ]
  },
  {
   "cell_type": "code",
   "execution_count": 54,
   "id": "945b7b87",
   "metadata": {},
   "outputs": [
    {
     "data": {
      "text/plain": [
       "RandomForestRegressor(n_jobs=-1, random_state=42)"
      ]
     },
     "execution_count": 54,
     "metadata": {},
     "output_type": "execute_result"
    }
   ],
   "source": [
    "RF = RandomForestRegressor(n_estimators=100, \n",
    "                               criterion='mse', \n",
    "                               random_state=42, \n",
    "                               n_jobs=-1)\n",
    "RF.fit(X_train, y_train.squeeze())"
   ]
  },
  {
   "cell_type": "code",
   "execution_count": 55,
   "id": "0cfb34ca",
   "metadata": {},
   "outputs": [],
   "source": [
    "y_train_preds = RF.predict(X_train)\n",
    "y_test_preds = RF.predict(X_test)"
   ]
  },
  {
   "cell_type": "code",
   "execution_count": 56,
   "id": "687eaf56",
   "metadata": {},
   "outputs": [
    {
     "data": {
      "text/plain": [
       "(400.5818910612156, 424.1234218815883)"
      ]
     },
     "execution_count": 56,
     "metadata": {},
     "output_type": "execute_result"
    }
   ],
   "source": [
    "  mean_squared_error(y_train, y_train_preds), mean_squared_error(y_test, y_test_preds)"
   ]
  },
  {
   "cell_type": "code",
   "execution_count": 57,
   "id": "a3adbf65",
   "metadata": {},
   "outputs": [
    {
     "data": {
      "text/plain": [
       "(0.9638396644844197, 0.9612678783184695)"
      ]
     },
     "execution_count": 57,
     "metadata": {},
     "output_type": "execute_result"
    }
   ],
   "source": [
    " r2_score(y_train, y_train_preds), r2_score(y_test, y_test_preds)"
   ]
  },
  {
   "cell_type": "markdown",
   "id": "2dd2d5d1",
   "metadata": {},
   "source": [
    "The r2 score was around 0.96 which is high."
   ]
  },
  {
   "cell_type": "markdown",
   "id": "ea2d90c8",
   "metadata": {},
   "source": [
    "Which features were more important in determinig the price?\n"
   ]
  },
  {
   "cell_type": "code",
   "execution_count": 58,
   "id": "75652a0d",
   "metadata": {},
   "outputs": [
    {
     "data": {
      "image/png": "[encoded data removed]",
      "text/plain": [
       "<Figure size 1080x360 with 1 Axes>"
      ]
     },
     "metadata": {
      "needs_background": "light"
     },
     "output_type": "display_data"
    }
   ],
   "source": [
    "plt.subplots(figsize=(15, 5))\n",
    "imps = RF.feature_importances_\n",
    "rf_feat_imps = pd.Series(imps, index=X_train.columns).sort_values(ascending=False)\n",
    "rf_feat_imps.plot(kind='bar')\n",
    "plt.xlabel('features')\n",
    "plt.ylabel('importance')\n",
    "plt.title('random forest regressor feature importances');"
   ]
  },
  {
   "cell_type": "markdown",
   "id": "a2748d3a",
   "metadata": {},
   "source": [
    "As you see, the most important features were, number of bedrooms and bathrooms and reveiw score ratings."
   ]
  },
  {
   "cell_type": "markdown",
   "id": "e45424df",
   "metadata": {},
   "source": [
    "Then, we try XGBoost model for comparison."
   ]
  },
  {
   "cell_type": "code",
   "execution_count": 62,
   "id": "f8d3f45a",
   "metadata": {},
   "outputs": [
    {
     "data": {
      "text/plain": [
       "XGBRegressor(base_score=0.5, booster='gbtree', colsample_bylevel=1,\n",
       "             colsample_bynode=1, colsample_bytree=1, enable_categorical=False,\n",
       "             gamma=0, gpu_id=-1, importance_type=None,\n",
       "             interaction_constraints='', learning_rate=0.08, max_delta_step=0,\n",
       "             max_depth=7, min_child_weight=1, missing=nan,\n",
       "             monotone_constraints='()', n_estimators=100, n_jobs=8,\n",
       "             num_parallel_tree=1, predictor='auto', random_state=0, reg_alpha=0,\n",
       "             reg_lambda=1, scale_pos_weight=1, subsample=0.75,\n",
       "             tree_method='exact', validate_parameters=1, verbosity=None)"
      ]
     },
     "execution_count": 62,
     "metadata": {},
     "output_type": "execute_result"
    }
   ],
   "source": [
    "xgb = xgb.XGBRegressor(n_estimators=100, learning_rate=0.08, gamma=0, subsample=0.75, max_depth=7)\n",
    "xgb.fit(X_train,y_train)"
   ]
  },
  {
   "cell_type": "code",
   "execution_count": 63,
   "id": "0fe16ca0",
   "metadata": {},
   "outputs": [],
   "source": [
    "y_train_preds = xgb.predict(X_train)\n",
    "y_test_preds = xgb.predict(X_test)"
   ]
  },
  {
   "cell_type": "code",
   "execution_count": 64,
   "id": "54d49068",
   "metadata": {},
   "outputs": [
    {
     "data": {
      "text/plain": [
       "(1741.0435994263034, 1746.1582274490888)"
      ]
     },
     "execution_count": 64,
     "metadata": {},
     "output_type": "execute_result"
    }
   ],
   "source": [
    " mean_squared_error(y_train, y_train_preds),mean_squared_error(y_test, y_test_preds)"
   ]
  },
  {
   "cell_type": "code",
   "execution_count": 65,
   "id": "de3e0bfb",
   "metadata": {},
   "outputs": [
    {
     "data": {
      "text/plain": [
       "(0.8428368278562848, 0.8405360103888673)"
      ]
     },
     "execution_count": 65,
     "metadata": {},
     "output_type": "execute_result"
    }
   ],
   "source": [
    " r2_score(y_train, y_train_preds),r2_score(y_test, y_test_preds)"
   ]
  },
  {
   "cell_type": "markdown",
   "id": "2376905b",
   "metadata": {},
   "source": [
    "It seems random forest had better performance interms of mean squared error and r2 score."
   ]
  },
  {
   "cell_type": "markdown",
   "id": "77e7a3e5",
   "metadata": {},
   "source": [
    "***4. Evaluation & Correlation***"
   ]
  },
  {
   "cell_type": "markdown",
   "id": "be5268d2",
   "metadata": {},
   "source": [
    "* As you see above random forest model was much better than XGBoost in terms of mean squared error and r2 score.\n",
    "Now Here is the final conclusions:\n",
    "\n",
    "1)The maximum average price per day is seen at June, July and August and minimum average price is seen on January and November.\n",
    "\n",
    "2)Most of the posting were entire home/apartments.\n",
    "\n",
    "3)The listing prices in most of the cases were below 200 dollars. Most of the cases were around 100 dollars per night. There were very few cases around $1000 per night.\n",
    "\n",
    "4) The price was increasing with number of accomodates untill 11 accomodates. After 11 accomodates, the price was not increasing with number of accomodates.\n",
    "\n",
    "5)Based on the heatmap, price was correlating with number of accomodates, bedrooms, bathrooms and beds.Reveiw_scores parameters were correlating with host being superhost or not.\n",
    "\n",
    "6) The final feature importance on random forest model showed that five most important features were number of bedrooms, bathrooms, reveiw_scores_rating and the length of the time the person was host as well as number of accomodates.\n",
    "\n"
   ]
  },
  {
   "cell_type": "code",
   "execution_count": null,
   "id": "e4818c32",
   "metadata": {},
   "outputs": [],
   "source": []
  }
 ],
 "metadata": {
  "kernelspec": {
   "display_name": "Python 3",
   "language": "python",
   "name": "python3"
  },
  "language_info": {
   "codemirror_mode": {
    "name": "ipython",
    "version": 3
   },
   "file_extension": ".py",
   "mimetype": "text/x-python",
   "name": "python",
   "nbconvert_exporter": "python",
   "pygments_lexer": "ipython3",
   "version": "3.8.8"
  }
 },
 "nbformat": 4,
 "nbformat_minor": 5
}
